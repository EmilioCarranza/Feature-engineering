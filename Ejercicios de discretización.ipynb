{
 "cells": [
  {
   "cell_type": "code",
   "execution_count": 2,
   "metadata": {
    "executionInfo": {
     "elapsed": 257,
     "status": "ok",
     "timestamp": 1614844482088,
     "user": {
      "displayName": "Carlos Arellano",
      "photoUrl": "https://lh3.googleusercontent.com/a-/AOh14GiBH8fGUTBmi6h7rbiSwe2noqDE_qJ7QT79JTtMRA=s64",
      "userId": "03055712073717640513"
     },
     "user_tz": 360
    },
    "id": "-_pi5cta0qbs"
   },
   "outputs": [],
   "source": [
    "import numpy as np\n",
    "import matplotlib.pyplot as plt\n",
    "import pandas as pd\n",
    "ruta='C:/Users/Emilio/Desktop/Ingenieria de las Caracteristicas/Clases/Archivos/'"
   ]
  },
  {
   "cell_type": "markdown",
   "metadata": {
    "id": "bgJdKur7PvWW"
   },
   "source": [
    "* Leer la base de datos `edades.csv`"
   ]
  },
  {
   "cell_type": "code",
   "execution_count": 3,
   "metadata": {
    "id": "q00d1MWkQPqr",
    "scrolled": true
   },
   "outputs": [
    {
     "data": {
      "text/html": [
       "<div>\n",
       "<style scoped>\n",
       "    .dataframe tbody tr th:only-of-type {\n",
       "        vertical-align: middle;\n",
       "    }\n",
       "\n",
       "    .dataframe tbody tr th {\n",
       "        vertical-align: top;\n",
       "    }\n",
       "\n",
       "    .dataframe thead th {\n",
       "        text-align: right;\n",
       "    }\n",
       "</style>\n",
       "<table border=\"1\" class=\"dataframe\">\n",
       "  <thead>\n",
       "    <tr style=\"text-align: right;\">\n",
       "      <th></th>\n",
       "      <th>edades</th>\n",
       "    </tr>\n",
       "  </thead>\n",
       "  <tbody>\n",
       "    <tr>\n",
       "      <th>0</th>\n",
       "      <td>0</td>\n",
       "    </tr>\n",
       "    <tr>\n",
       "      <th>1</th>\n",
       "      <td>0</td>\n",
       "    </tr>\n",
       "    <tr>\n",
       "      <th>2</th>\n",
       "      <td>1</td>\n",
       "    </tr>\n",
       "    <tr>\n",
       "      <th>3</th>\n",
       "      <td>1</td>\n",
       "    </tr>\n",
       "    <tr>\n",
       "      <th>4</th>\n",
       "      <td>1</td>\n",
       "    </tr>\n",
       "    <tr>\n",
       "      <th>...</th>\n",
       "      <td>...</td>\n",
       "    </tr>\n",
       "    <tr>\n",
       "      <th>231</th>\n",
       "      <td>62</td>\n",
       "    </tr>\n",
       "    <tr>\n",
       "      <th>232</th>\n",
       "      <td>63</td>\n",
       "    </tr>\n",
       "    <tr>\n",
       "      <th>233</th>\n",
       "      <td>84</td>\n",
       "    </tr>\n",
       "    <tr>\n",
       "      <th>234</th>\n",
       "      <td>101</td>\n",
       "    </tr>\n",
       "    <tr>\n",
       "      <th>235</th>\n",
       "      <td>99</td>\n",
       "    </tr>\n",
       "  </tbody>\n",
       "</table>\n",
       "<p>236 rows × 1 columns</p>\n",
       "</div>"
      ],
      "text/plain": [
       "     edades\n",
       "0         0\n",
       "1         0\n",
       "2         1\n",
       "3         1\n",
       "4         1\n",
       "..      ...\n",
       "231      62\n",
       "232      63\n",
       "233      84\n",
       "234     101\n",
       "235      99\n",
       "\n",
       "[236 rows x 1 columns]"
      ]
     },
     "execution_count": 3,
     "metadata": {},
     "output_type": "execute_result"
    }
   ],
   "source": [
    "df=pd.read_csv(ruta+'edades.csv')\n",
    "df"
   ]
  },
  {
   "cell_type": "code",
   "execution_count": 4,
   "metadata": {
    "scrolled": false
   },
   "outputs": [
    {
     "data": {
      "image/png": "[encoded data removed]",
      "text/plain": [
       "<Figure size 432x288 with 1 Axes>"
      ]
     },
     "metadata": {
      "needs_background": "light"
     },
     "output_type": "display_data"
    }
   ],
   "source": [
    "H=df['edades'].hist(bins=50)"
   ]
  },
  {
   "cell_type": "markdown",
   "metadata": {
    "id": "YTthPvzaQQec"
   },
   "source": [
    "* Discretizar los datos en 10 intervalos iguales. ¿Cuántas personas forman parte de cada intervalo? ¿Cuál es este intervalo?"
   ]
  },
  {
   "cell_type": "code",
   "execution_count": 41,
   "metadata": {
    "id": "oqYcTME0QhVC",
    "scrolled": true
   },
   "outputs": [
    {
     "data": {
      "text/plain": [
       "disc_edades\n",
       "(-0.001, 4.0]    26\n",
       "(4.0, 12.0]      25\n",
       "(12.0, 14.0]     26\n",
       "(14.0, 15.0]     18\n",
       "(15.0, 18.0]     30\n",
       "(18.0, 20.0]     18\n",
       "(20.0, 23.5]     22\n",
       "(23.5, 27.0]     25\n",
       "(27.0, 44.0]     22\n",
       "(44.0, 101.0]    24\n",
       "Name: edades, dtype: int64"
      ]
     },
     "execution_count": 41,
     "metadata": {},
     "output_type": "execute_result"
    }
   ],
   "source": [
    "df['disc_edades']=pd.qcut(df['edades'],10)\n",
    "df.groupby('disc_edades')['edades'].count()\n"
   ]
  },
  {
   "cell_type": "markdown",
   "metadata": {
    "id": "yFt6hOq3QiG6"
   },
   "source": [
    "* Discretizar los datos en edades de 10 en 10. ¿Cuántas personas forman parte de cada intervalo?"
   ]
  },
  {
   "cell_type": "code",
   "execution_count": 25,
   "metadata": {
    "id": "rwpbpd3wQxPz"
   },
   "outputs": [],
   "source": [
    "m= min(df['edades'])\n",
    "M= df['edades'].max()\n",
    "binas= 10\n",
    "ancho=(M-m)/binas\n",
    "ancho= 10"
   ]
  },
  {
   "cell_type": "code",
   "execution_count": 31,
   "metadata": {},
   "outputs": [
    {
     "data": {
      "text/plain": [
       "array([  0,  10,  20,  30,  40,  50,  60,  70,  80,  90, 100, 110])"
      ]
     },
     "execution_count": 31,
     "metadata": {},
     "output_type": "execute_result"
    }
   ],
   "source": [
    "intervalos= np.arange(m,M+ancho,ancho)\n",
    "intervalos"
   ]
  },
  {
   "cell_type": "code",
   "execution_count": 32,
   "metadata": {},
   "outputs": [
    {
     "data": {
      "text/plain": [
       "disc_edades\n",
       "(0, 10]       39\n",
       "(10, 20]      99\n",
       "(20, 30]      53\n",
       "(30, 40]      14\n",
       "(40, 50]      10\n",
       "(50, 60]       8\n",
       "(60, 70]       3\n",
       "(70, 80]       1\n",
       "(80, 90]       2\n",
       "(90, 100]      1\n",
       "(100, 110]     1\n",
       "Name: edades, dtype: int64"
      ]
     },
     "execution_count": 32,
     "metadata": {},
     "output_type": "execute_result"
    }
   ],
   "source": [
    "df['disc_edades']=pd.cut(df['edades'],intervalos,include_lowest=False)\n",
    "df.groupby('disc_edades')['edades'].count()"
   ]
  },
  {
   "cell_type": "markdown",
   "metadata": {
    "id": "pV4biuI8Qx1x"
   },
   "source": [
    "* Discretizar los datos y nombrar los intervalos de acuerdo a la siguiente tabla:\n",
    "\n",
    "Nombre del rango|Rango\n",
    "------------------|:--------:\n",
    "bebé|0-2\n",
    "niño|3-11\n",
    "adolecente|12-17\n",
    "joven|18-25\n",
    "adulto joven|26-39\n",
    "adulto maduro|40-59\n",
    "adulto mayor |60 en adelante\n",
    "\n",
    "Para nombrar los intervalos use el argumento `labels` de la función `cut`"
   ]
  },
  {
   "cell_type": "code",
   "execution_count": 52,
   "metadata": {
    "id": "toTfZllTSo9W"
   },
   "outputs": [
    {
     "data": {
      "text/plain": [
       "disc_edades\n",
       "bebe             11\n",
       "niño             28\n",
       "adolescente      66\n",
       "joven            71\n",
       "adulto joven     29\n",
       "adulto maduro    21\n",
       "adulto mayor      5\n",
       "Name: edades, dtype: int64"
      ]
     },
     "execution_count": 52,
     "metadata": {},
     "output_type": "execute_result"
    }
   ],
   "source": [
    "nombres= ['bebe','niño','adolescente','joven','adulto joven','adulto maduro','adulto mayor']\n",
    "intervalosb= np.array([0,2,11,17,25,39,69,df['edades'].max()])\n",
    "df['disc_edades']=pd.cut(df['edades'],intervalosb,labels= nombres)\n",
    "xf=df.groupby('disc_edades')['edades'].count()\n",
    "xf"
   ]
  },
  {
   "cell_type": "markdown",
   "metadata": {
    "id": "VYawvL3vSqTb"
   },
   "source": [
    "* Mostrar un histograma de esta última discretización (¿Cuántas personas forman parte de cada grupo?)."
   ]
  },
  {
   "cell_type": "code",
   "execution_count": 83,
   "metadata": {
    "id": "yioeZca8S1qf"
   },
   "outputs": [
    {
     "data": {
      "text/plain": [
       "<AxesSubplot:>"
      ]
     },
     "execution_count": 83,
     "metadata": {},
     "output_type": "execute_result"
    },
    {
     "data": {
      "image/png": "[encoded data removed]",
      "text/plain": [
       "<Figure size 432x288 with 1 Axes>"
      ]
     },
     "metadata": {
      "needs_background": "light"
     },
     "output_type": "display_data"
    }
   ],
   "source": [
    "fig, ax = plt.subplots()\n",
    "df['disc_edades'].value_counts().plot(ax=ax,kind='bar')"
   ]
  },
  {
   "cell_type": "markdown",
   "metadata": {
    "id": "o1ri85sIS7b2"
   },
   "source": [
    "* Leer el archivo llamado `Vol-Pot.csv`"
   ]
  },
  {
   "cell_type": "code",
   "execution_count": 72,
   "metadata": {
    "id": "PI6MW3drTF26",
    "scrolled": true
   },
   "outputs": [
    {
     "data": {
      "text/html": [
       "<div>\n",
       "<style scoped>\n",
       "    .dataframe tbody tr th:only-of-type {\n",
       "        vertical-align: middle;\n",
       "    }\n",
       "\n",
       "    .dataframe tbody tr th {\n",
       "        vertical-align: top;\n",
       "    }\n",
       "\n",
       "    .dataframe thead th {\n",
       "        text-align: right;\n",
       "    }\n",
       "</style>\n",
       "<table border=\"1\" class=\"dataframe\">\n",
       "  <thead>\n",
       "    <tr style=\"text-align: right;\">\n",
       "      <th></th>\n",
       "      <th>Volumen</th>\n",
       "      <th>Potencia</th>\n",
       "    </tr>\n",
       "  </thead>\n",
       "  <tbody>\n",
       "    <tr>\n",
       "      <th>0</th>\n",
       "      <td>0.000000</td>\n",
       "      <td>0.000000</td>\n",
       "    </tr>\n",
       "    <tr>\n",
       "      <th>1</th>\n",
       "      <td>0.010001</td>\n",
       "      <td>0.000500</td>\n",
       "    </tr>\n",
       "    <tr>\n",
       "      <th>2</th>\n",
       "      <td>0.020002</td>\n",
       "      <td>0.001001</td>\n",
       "    </tr>\n",
       "    <tr>\n",
       "      <th>3</th>\n",
       "      <td>0.030003</td>\n",
       "      <td>0.001501</td>\n",
       "    </tr>\n",
       "    <tr>\n",
       "      <th>4</th>\n",
       "      <td>0.040004</td>\n",
       "      <td>0.002002</td>\n",
       "    </tr>\n",
       "    <tr>\n",
       "      <th>...</th>\n",
       "      <td>...</td>\n",
       "      <td>...</td>\n",
       "    </tr>\n",
       "    <tr>\n",
       "      <th>9995</th>\n",
       "      <td>99.959996</td>\n",
       "      <td>147.116600</td>\n",
       "    </tr>\n",
       "    <tr>\n",
       "      <th>9996</th>\n",
       "      <td>99.969997</td>\n",
       "      <td>147.190684</td>\n",
       "    </tr>\n",
       "    <tr>\n",
       "      <th>9997</th>\n",
       "      <td>99.979998</td>\n",
       "      <td>147.264805</td>\n",
       "    </tr>\n",
       "    <tr>\n",
       "      <th>9998</th>\n",
       "      <td>99.989999</td>\n",
       "      <td>147.338964</td>\n",
       "    </tr>\n",
       "    <tr>\n",
       "      <th>9999</th>\n",
       "      <td>100.000000</td>\n",
       "      <td>147.413159</td>\n",
       "    </tr>\n",
       "  </tbody>\n",
       "</table>\n",
       "<p>10000 rows × 2 columns</p>\n",
       "</div>"
      ],
      "text/plain": [
       "         Volumen    Potencia\n",
       "0       0.000000    0.000000\n",
       "1       0.010001    0.000500\n",
       "2       0.020002    0.001001\n",
       "3       0.030003    0.001501\n",
       "4       0.040004    0.002002\n",
       "...          ...         ...\n",
       "9995   99.959996  147.116600\n",
       "9996   99.969997  147.190684\n",
       "9997   99.979998  147.264805\n",
       "9998   99.989999  147.338964\n",
       "9999  100.000000  147.413159\n",
       "\n",
       "[10000 rows x 2 columns]"
      ]
     },
     "execution_count": 72,
     "metadata": {},
     "output_type": "execute_result"
    }
   ],
   "source": [
    "dt=pd.read_csv(ruta+'vol-pot.csv')\n",
    "dt"
   ]
  },
  {
   "cell_type": "markdown",
   "metadata": {
    "id": "IBapzf7YTGZw"
   },
   "source": [
    "* Discretizar la columna de `Potencia` en 10 binas de forma que el intervalo crezca de forma exponencial:\n",
    "```python\n",
    "bins=10\n",
    "intervalo=[np.exp(A*i)-B for i in range(bins+1)]\n",
    "```\n",
    "(Encontrar `A` y `B` de forma que abarque el rango de la columna `Potencia`)."
   ]
  },
  {
   "cell_type": "code",
   "execution_count": 73,
   "metadata": {
    "id": "Q1DlfdIkT1X2"
   },
   "outputs": [
    {
     "data": {
      "text/plain": [
       "[0.0,\n",
       " 0.6487212707001282,\n",
       " 1.718281828459045,\n",
       " 3.4816890703380645,\n",
       " 6.38905609893065,\n",
       " 11.182493960703473,\n",
       " 19.085536923187668,\n",
       " 32.11545195869231,\n",
       " 53.598150033144236,\n",
       " 89.01713130052181,\n",
       " 147.4131591025766]"
      ]
     },
     "execution_count": 73,
     "metadata": {},
     "output_type": "execute_result"
    }
   ],
   "source": [
    "A=0.5\n",
    "B=1\n",
    "bins=10\n",
    "intervalo=[np.exp(A*i)-B for i in range(bins+1)]\n",
    "intervalo"
   ]
  },
  {
   "cell_type": "markdown",
   "metadata": {
    "id": "Q_CPWv0ST4TJ"
   },
   "source": [
    "* ¿Cuántos datos se agrupan en cada intervalo para la columna de `Potencia` y cuántos para la columna de `Volumen`?"
   ]
  },
  {
   "cell_type": "code",
   "execution_count": 75,
   "metadata": {
    "id": "r6OfHvL7UELL"
   },
   "outputs": [
    {
     "data": {
      "text/plain": [
       "disc_potencia\n",
       "(0.0, 0.649]          999\n",
       "(0.649, 1.718]       1000\n",
       "(1.718, 3.482]       1000\n",
       "(3.482, 6.389]       1000\n",
       "(6.389, 11.182]      1000\n",
       "(11.182, 19.086]     1000\n",
       "(19.086, 32.115]     1000\n",
       "(32.115, 53.598]     1000\n",
       "(53.598, 89.017]     1000\n",
       "(89.017, 147.413]    1000\n",
       "Name: Potencia, dtype: int64"
      ]
     },
     "execution_count": 75,
     "metadata": {},
     "output_type": "execute_result"
    }
   ],
   "source": [
    "dt['disc_potencia']=pd.cut(dt['Potencia'],intervalo)\n",
    "dt.groupby('disc_potencia')['Potencia'].count()"
   ]
  },
  {
   "cell_type": "code",
   "execution_count": 77,
   "metadata": {},
   "outputs": [
    {
     "data": {
      "text/plain": [
       "disc_volumen\n",
       "(0.0, 0.649]           64\n",
       "(0.649, 1.718]        107\n",
       "(1.718, 3.482]        177\n",
       "(3.482, 6.389]        290\n",
       "(6.389, 11.182]       480\n",
       "(11.182, 19.086]      790\n",
       "(19.086, 32.115]     1303\n",
       "(32.115, 53.598]     2148\n",
       "(53.598, 89.017]     3541\n",
       "(89.017, 147.413]    1099\n",
       "Name: Volumen, dtype: int64"
      ]
     },
     "execution_count": 77,
     "metadata": {},
     "output_type": "execute_result"
    }
   ],
   "source": [
    "dt['disc_volumen']=pd.cut(dt['Volumen'],intervalo)\n",
    "dt.groupby('disc_volumen')['Volumen'].count()"
   ]
  },
  {
   "cell_type": "code",
   "execution_count": null,
   "metadata": {},
   "outputs": [],
   "source": []
  }
 ],
 "metadata": {
  "colab": {
   "authorship_tag": "ABX9TyNIMHSHTdR7XKCFqQYUFjQN",
   "collapsed_sections": [],
   "name": "Copia de Ejercicios de discretización.ipynb",
   "provenance": []
  },
  "kernelspec": {
   "display_name": "Python 3",
   "language": "python",
   "name": "python3"
  },
  "language_info": {
   "codemirror_mode": {
    "name": "ipython",
    "version": 3
   },
   "file_extension": ".py",
   "mimetype": "text/x-python",
   "name": "python",
   "nbconvert_exporter": "python",
   "pygments_lexer": "ipython3",
   "version": "3.7.6"
  }
 },
 "nbformat": 4,
 "nbformat_minor": 1
}
