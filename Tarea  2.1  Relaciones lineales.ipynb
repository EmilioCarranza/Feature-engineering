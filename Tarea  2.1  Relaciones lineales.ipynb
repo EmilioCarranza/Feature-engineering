{
 "cells": [
  {
   "cell_type": "code",
   "execution_count": 2,
   "id": "ab6442d1",
   "metadata": {},
   "outputs": [],
   "source": [
    "import numpy as np\n",
    "import pandas as pd"
   ]
  },
  {
   "cell_type": "markdown",
   "id": "bdfdb519",
   "metadata": {},
   "source": [
    "# 1. Encuentre al menos dos relaciones lineales entre los siguientes conjuntos de datos"
   ]
  },
  {
   "cell_type": "code",
   "execution_count": 7,
   "id": "245a9472",
   "metadata": {},
   "outputs": [
    {
     "data": {
      "text/plain": [
       "array([ 1,  6,  4, 16])"
      ]
     },
     "execution_count": 7,
     "metadata": {},
     "output_type": "execute_result"
    }
   ],
   "source": [
    "W1= np.array([1,6,2,8])\n",
    "X1= np.array([1,1,2,2])\n",
    "W1*X1\n",
    "y= np.array([1,6,20])\n"
   ]
  },
  {
   "cell_type": "code",
   "execution_count": 4,
   "id": "47107c52",
   "metadata": {},
   "outputs": [],
   "source": [
    "W2X2= np.array([1,4,-1])\n",
    "X2= np.array([[1,1,1],[0,1,-1]])\n",
    "\n"
   ]
  },
  {
   "cell_type": "code",
   "execution_count": 5,
   "id": "8c180034",
   "metadata": {},
   "outputs": [],
   "source": [
    "W3=np.array([1,0])\n",
    "X3= np.array([1,2,3])\n"
   ]
  },
  {
   "cell_type": "markdown",
   "id": "4edfbf6f",
   "metadata": {},
   "source": [
    "# 2. Encuentre la función polinómica que pase exactamente por los siguientes datos"
   ]
  },
  {
   "cell_type": "code",
   "execution_count": 170,
   "id": "13471373",
   "metadata": {},
   "outputs": [],
   "source": [
    "X= np.array([[-1,1],[1,1]]) \n",
    "Y= np.array([0,2])"
   ]
  },
  {
   "cell_type": "code",
   "execution_count": 171,
   "id": "bbb728ac",
   "metadata": {},
   "outputs": [],
   "source": [
    "Xi= np.linalg.inv(X)"
   ]
  },
  {
   "cell_type": "code",
   "execution_count": 172,
   "id": "939f7e40",
   "metadata": {},
   "outputs": [
    {
     "data": {
      "text/plain": [
       "array([1., 1.])"
      ]
     },
     "execution_count": 172,
     "metadata": {},
     "output_type": "execute_result"
    }
   ],
   "source": [
    "Xi@Y"
   ]
  },
  {
   "cell_type": "markdown",
   "id": "f2c02252",
   "metadata": {},
   "source": [
    "Resultado $$y=x+1$$"
   ]
  },
  {
   "cell_type": "code",
   "execution_count": 173,
   "id": "690220dd",
   "metadata": {},
   "outputs": [],
   "source": [
    "X2= np.array([[0,1],[1,1]])\n",
    "Y2= np.array([-1,2])"
   ]
  },
  {
   "cell_type": "code",
   "execution_count": 174,
   "id": "93467d6b",
   "metadata": {},
   "outputs": [],
   "source": [
    "Xi2=np.linalg.inv(X2)"
   ]
  },
  {
   "cell_type": "code",
   "execution_count": 175,
   "id": "0972ac8e",
   "metadata": {},
   "outputs": [
    {
     "data": {
      "text/plain": [
       "array([ 3., -1.])"
      ]
     },
     "execution_count": 175,
     "metadata": {},
     "output_type": "execute_result"
    }
   ],
   "source": [
    "Xi2@Y2"
   ]
  },
  {
   "cell_type": "markdown",
   "id": "82990640",
   "metadata": {},
   "source": [
    "Resultado $$y=3x-1 $$"
   ]
  },
  {
   "cell_type": "code",
   "execution_count": 176,
   "id": "8d9fc02e",
   "metadata": {},
   "outputs": [
    {
     "data": {
      "text/plain": [
       "array([[ 1, -1,  1],\n",
       "       [ 0,  0,  1],\n",
       "       [ 1,  1,  1]])"
      ]
     },
     "execution_count": 176,
     "metadata": {},
     "output_type": "execute_result"
    }
   ],
   "source": [
    "X3= np.array([[1,-1,1],[0,0,1],[1,1,1]])\n",
    "Y3= np.array([3,1,3])\n",
    "\n",
    "X3"
   ]
  },
  {
   "cell_type": "code",
   "execution_count": 177,
   "id": "c307b78d",
   "metadata": {},
   "outputs": [
    {
     "data": {
      "text/plain": [
       "array([[ 0.5, -1. ,  0.5],\n",
       "       [-0.5,  0. ,  0.5],\n",
       "       [ 0. ,  1. ,  0. ]])"
      ]
     },
     "execution_count": 177,
     "metadata": {},
     "output_type": "execute_result"
    }
   ],
   "source": [
    "Xi3= np.linalg.inv(X3)\n",
    "Xi3"
   ]
  },
  {
   "cell_type": "code",
   "execution_count": 178,
   "id": "d272e73f",
   "metadata": {},
   "outputs": [
    {
     "data": {
      "text/plain": [
       "array([2., 0., 1.])"
      ]
     },
     "execution_count": 178,
     "metadata": {},
     "output_type": "execute_result"
    }
   ],
   "source": [
    "Xi3@Y3"
   ]
  },
  {
   "cell_type": "markdown",
   "id": "421bb7d8",
   "metadata": {},
   "source": [
    "Resultado $$y=2X^2 + 1$$"
   ]
  },
  {
   "cell_type": "markdown",
   "id": "7071a88a",
   "metadata": {},
   "source": [
    "# 3. Encuentre la mejor función lineal que pase por los siguientes datos"
   ]
  },
  {
   "cell_type": "code",
   "execution_count": 30,
   "id": "4d5f30df",
   "metadata": {},
   "outputs": [],
   "source": [
    "from sklearn.datasets import load_wine\n",
    "import scipy.optimize as opt\n",
    "import matplotlib.pyplot as plt\n",
    "X0= [-1,0,-1,2,1,0,2,3,4,3,4,1]\n",
    "Y0= [-3.2,0,-3.8,3.7,0.8,-0.4,2.4,6,7.1,5.6,6.8,1.7]"
   ]
  },
  {
   "cell_type": "code",
   "execution_count": 34,
   "id": "9b20d06c",
   "metadata": {},
   "outputs": [
    {
     "data": {
      "text/html": [
       "<div>\n",
       "<style scoped>\n",
       "    .dataframe tbody tr th:only-of-type {\n",
       "        vertical-align: middle;\n",
       "    }\n",
       "\n",
       "    .dataframe tbody tr th {\n",
       "        vertical-align: top;\n",
       "    }\n",
       "\n",
       "    .dataframe thead th {\n",
       "        text-align: right;\n",
       "    }\n",
       "</style>\n",
       "<table border=\"1\" class=\"dataframe\">\n",
       "  <thead>\n",
       "    <tr style=\"text-align: right;\">\n",
       "      <th></th>\n",
       "      <th>X</th>\n",
       "      <th>Y</th>\n",
       "    </tr>\n",
       "  </thead>\n",
       "  <tbody>\n",
       "    <tr>\n",
       "      <th>0</th>\n",
       "      <td>-1</td>\n",
       "      <td>-3.2</td>\n",
       "    </tr>\n",
       "    <tr>\n",
       "      <th>1</th>\n",
       "      <td>0</td>\n",
       "      <td>0.0</td>\n",
       "    </tr>\n",
       "    <tr>\n",
       "      <th>2</th>\n",
       "      <td>-1</td>\n",
       "      <td>-3.8</td>\n",
       "    </tr>\n",
       "    <tr>\n",
       "      <th>3</th>\n",
       "      <td>2</td>\n",
       "      <td>3.7</td>\n",
       "    </tr>\n",
       "    <tr>\n",
       "      <th>4</th>\n",
       "      <td>1</td>\n",
       "      <td>0.8</td>\n",
       "    </tr>\n",
       "    <tr>\n",
       "      <th>5</th>\n",
       "      <td>0</td>\n",
       "      <td>-0.4</td>\n",
       "    </tr>\n",
       "    <tr>\n",
       "      <th>6</th>\n",
       "      <td>2</td>\n",
       "      <td>2.4</td>\n",
       "    </tr>\n",
       "    <tr>\n",
       "      <th>7</th>\n",
       "      <td>3</td>\n",
       "      <td>6.0</td>\n",
       "    </tr>\n",
       "    <tr>\n",
       "      <th>8</th>\n",
       "      <td>4</td>\n",
       "      <td>7.1</td>\n",
       "    </tr>\n",
       "    <tr>\n",
       "      <th>9</th>\n",
       "      <td>3</td>\n",
       "      <td>5.6</td>\n",
       "    </tr>\n",
       "    <tr>\n",
       "      <th>10</th>\n",
       "      <td>4</td>\n",
       "      <td>6.8</td>\n",
       "    </tr>\n",
       "    <tr>\n",
       "      <th>11</th>\n",
       "      <td>1</td>\n",
       "      <td>1.7</td>\n",
       "    </tr>\n",
       "  </tbody>\n",
       "</table>\n",
       "</div>"
      ],
      "text/plain": [
       "    X    Y\n",
       "0  -1 -3.2\n",
       "1   0  0.0\n",
       "2  -1 -3.8\n",
       "3   2  3.7\n",
       "4   1  0.8\n",
       "5   0 -0.4\n",
       "6   2  2.4\n",
       "7   3  6.0\n",
       "8   4  7.1\n",
       "9   3  5.6\n",
       "10  4  6.8\n",
       "11  1  1.7"
      ]
     },
     "execution_count": 34,
     "metadata": {},
     "output_type": "execute_result"
    }
   ],
   "source": [
    "DF= pd.DataFrame(zip(X0,Y0),columns=['X','Y'])\n",
    "x= DF['X']\n",
    "y= DF['Y']\n",
    "DF"
   ]
  },
  {
   "cell_type": "code",
   "execution_count": 32,
   "id": "55f58756",
   "metadata": {},
   "outputs": [
    {
     "data": {
      "image/png": "[encoded data removed]",
      "text/plain": [
       "<Figure size 432x288 with 1 Axes>"
      ]
     },
     "metadata": {
      "needs_background": "light"
     },
     "output_type": "display_data"
    }
   ],
   "source": [
    "plt.scatter(DF['X'],DF['Y'])\n",
    "plt.grid()"
   ]
  },
  {
   "cell_type": "code",
   "execution_count": 37,
   "id": "6a74c552",
   "metadata": {},
   "outputs": [
    {
     "data": {
      "text/plain": [
       "      fun: 0.341869047619048\n",
       " hess_inv: array([[ 0.88602679, -0.25716943],\n",
       "       [-0.25716943,  0.17143094]])\n",
       "      jac: array([2.60770321e-08, 1.49011612e-08])\n",
       "  message: 'Optimization terminated successfully.'\n",
       "     nfev: 18\n",
       "      nit: 5\n",
       "     njev: 6\n",
       "   status: 0\n",
       "  success: True\n",
       "        x: array([-0.86285713,  2.05857142])"
      ]
     },
     "execution_count": 37,
     "metadata": {},
     "output_type": "execute_result"
    }
   ],
   "source": [
    "def fun(a,x,y):\n",
    "    f=a[0]+a[1]*x\n",
    "    return np.mean((f-y)**2)\n",
    "a0=np.random.rand(2)\n",
    "sol=opt.minimize(fun,a0,args=(x,y))\n",
    "\n",
    "sol"
   ]
  },
  {
   "cell_type": "code",
   "execution_count": 38,
   "id": "f5ef1e21",
   "metadata": {},
   "outputs": [
    {
     "data": {
      "image/png": "[encoded data removed]",
      "text/plain": [
       "<Figure size 432x288 with 1 Axes>"
      ]
     },
     "metadata": {
      "needs_background": "light"
     },
     "output_type": "display_data"
    }
   ],
   "source": [
    "plt.scatter(x,y)\n",
    "f=sol.x[0]+sol.x[1]*x\n",
    "plt.plot(x,f,'r')\n",
    "plt.grid()"
   ]
  },
  {
   "cell_type": "code",
   "execution_count": null,
   "id": "ac8d700d",
   "metadata": {},
   "outputs": [],
   "source": []
  }
 ],
 "metadata": {
  "kernelspec": {
   "display_name": "Python 3",
   "language": "python",
   "name": "python3"
  },
  "language_info": {
   "codemirror_mode": {
    "name": "ipython",
    "version": 3
   },
   "file_extension": ".py",
   "mimetype": "text/x-python",
   "name": "python",
   "nbconvert_exporter": "python",
   "pygments_lexer": "ipython3",
   "version": "3.7.6"
  }
 },
 "nbformat": 4,
 "nbformat_minor": 5
}
