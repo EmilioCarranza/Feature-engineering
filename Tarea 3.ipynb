{
 "cells": [
  {
   "cell_type": "code",
   "execution_count": 1,
   "id": "3b6a6fec",
   "metadata": {},
   "outputs": [],
   "source": [
    "import numpy as np\n",
    "import pandas as pd"
   ]
  },
  {
   "cell_type": "code",
   "execution_count": 3,
   "id": "cff3bde7",
   "metadata": {},
   "outputs": [],
   "source": [
    "ruta= ('C:/Users/Emilio/Desktop/Ingenieria de las Caracteristicas/Tareas/Tarea 3/')"
   ]
  },
  {
   "cell_type": "markdown",
   "id": "4ef0684a",
   "metadata": {},
   "source": [
    "En un archivo con extensión ipynb, identifique cada una de estas variables (categórica o numérica, su distribución, o si presenta datos atípicos) y sustituya los valores faltantes con algún método que crea conveniente. Importante: justifique el método usado."
   ]
  },
  {
   "cell_type": "code",
   "execution_count": 4,
   "id": "6f2f81a9",
   "metadata": {},
   "outputs": [],
   "source": [
    "dt=pd.read_csv(ruta+'tratamiento_de_valores_faltantes.csv')\n",
    "data= dt"
   ]
  },
  {
   "cell_type": "code",
   "execution_count": 5,
   "id": "151aea44",
   "metadata": {},
   "outputs": [
    {
     "data": {
      "text/html": [
       "<div>\n",
       "<style scoped>\n",
       "    .dataframe tbody tr th:only-of-type {\n",
       "        vertical-align: middle;\n",
       "    }\n",
       "\n",
       "    .dataframe tbody tr th {\n",
       "        vertical-align: top;\n",
       "    }\n",
       "\n",
       "    .dataframe thead th {\n",
       "        text-align: right;\n",
       "    }\n",
       "</style>\n",
       "<table border=\"1\" class=\"dataframe\">\n",
       "  <thead>\n",
       "    <tr style=\"text-align: right;\">\n",
       "      <th></th>\n",
       "      <th>x1</th>\n",
       "      <th>x2</th>\n",
       "      <th>x3</th>\n",
       "      <th>x4</th>\n",
       "    </tr>\n",
       "  </thead>\n",
       "  <tbody>\n",
       "    <tr>\n",
       "      <th>0</th>\n",
       "      <td>1.307150</td>\n",
       "      <td>Comida rápida</td>\n",
       "      <td>5.249548</td>\n",
       "      <td>2.790293</td>\n",
       "    </tr>\n",
       "    <tr>\n",
       "      <th>1</th>\n",
       "      <td>18.422083</td>\n",
       "      <td>Mexicano</td>\n",
       "      <td>5.278007</td>\n",
       "      <td>3.330853</td>\n",
       "    </tr>\n",
       "    <tr>\n",
       "      <th>2</th>\n",
       "      <td>7.729605</td>\n",
       "      <td>Italiano</td>\n",
       "      <td>7.403145</td>\n",
       "      <td>2.895753</td>\n",
       "    </tr>\n",
       "    <tr>\n",
       "      <th>3</th>\n",
       "      <td>10.599776</td>\n",
       "      <td>Comida rápida</td>\n",
       "      <td>7.209577</td>\n",
       "      <td>3.393178</td>\n",
       "    </tr>\n",
       "    <tr>\n",
       "      <th>4</th>\n",
       "      <td>5.612505</td>\n",
       "      <td>Chino</td>\n",
       "      <td>5.896599</td>\n",
       "      <td>2.901199</td>\n",
       "    </tr>\n",
       "  </tbody>\n",
       "</table>\n",
       "</div>"
      ],
      "text/plain": [
       "          x1             x2        x3        x4\n",
       "0   1.307150  Comida rápida  5.249548  2.790293\n",
       "1  18.422083       Mexicano  5.278007  3.330853\n",
       "2   7.729605       Italiano  7.403145  2.895753\n",
       "3  10.599776  Comida rápida  7.209577  3.393178\n",
       "4   5.612505          Chino  5.896599  2.901199"
      ]
     },
     "execution_count": 5,
     "metadata": {},
     "output_type": "execute_result"
    }
   ],
   "source": [
    "data.head()"
   ]
  },
  {
   "cell_type": "code",
   "execution_count": 6,
   "id": "61de31f1",
   "metadata": {},
   "outputs": [
    {
     "data": {
      "text/html": [
       "<div>\n",
       "<style scoped>\n",
       "    .dataframe tbody tr th:only-of-type {\n",
       "        vertical-align: middle;\n",
       "    }\n",
       "\n",
       "    .dataframe tbody tr th {\n",
       "        vertical-align: top;\n",
       "    }\n",
       "\n",
       "    .dataframe thead th {\n",
       "        text-align: right;\n",
       "    }\n",
       "</style>\n",
       "<table border=\"1\" class=\"dataframe\">\n",
       "  <thead>\n",
       "    <tr style=\"text-align: right;\">\n",
       "      <th></th>\n",
       "      <th>x1</th>\n",
       "      <th>x2</th>\n",
       "      <th>x3</th>\n",
       "      <th>x4</th>\n",
       "    </tr>\n",
       "  </thead>\n",
       "  <tbody>\n",
       "    <tr>\n",
       "      <th>0</th>\n",
       "      <td>False</td>\n",
       "      <td>False</td>\n",
       "      <td>False</td>\n",
       "      <td>False</td>\n",
       "    </tr>\n",
       "    <tr>\n",
       "      <th>1</th>\n",
       "      <td>False</td>\n",
       "      <td>False</td>\n",
       "      <td>False</td>\n",
       "      <td>False</td>\n",
       "    </tr>\n",
       "    <tr>\n",
       "      <th>2</th>\n",
       "      <td>False</td>\n",
       "      <td>False</td>\n",
       "      <td>False</td>\n",
       "      <td>False</td>\n",
       "    </tr>\n",
       "    <tr>\n",
       "      <th>3</th>\n",
       "      <td>False</td>\n",
       "      <td>False</td>\n",
       "      <td>False</td>\n",
       "      <td>False</td>\n",
       "    </tr>\n",
       "    <tr>\n",
       "      <th>4</th>\n",
       "      <td>False</td>\n",
       "      <td>False</td>\n",
       "      <td>False</td>\n",
       "      <td>False</td>\n",
       "    </tr>\n",
       "    <tr>\n",
       "      <th>...</th>\n",
       "      <td>...</td>\n",
       "      <td>...</td>\n",
       "      <td>...</td>\n",
       "      <td>...</td>\n",
       "    </tr>\n",
       "    <tr>\n",
       "      <th>495</th>\n",
       "      <td>False</td>\n",
       "      <td>False</td>\n",
       "      <td>False</td>\n",
       "      <td>False</td>\n",
       "    </tr>\n",
       "    <tr>\n",
       "      <th>496</th>\n",
       "      <td>False</td>\n",
       "      <td>False</td>\n",
       "      <td>False</td>\n",
       "      <td>False</td>\n",
       "    </tr>\n",
       "    <tr>\n",
       "      <th>497</th>\n",
       "      <td>False</td>\n",
       "      <td>False</td>\n",
       "      <td>False</td>\n",
       "      <td>False</td>\n",
       "    </tr>\n",
       "    <tr>\n",
       "      <th>498</th>\n",
       "      <td>False</td>\n",
       "      <td>False</td>\n",
       "      <td>False</td>\n",
       "      <td>False</td>\n",
       "    </tr>\n",
       "    <tr>\n",
       "      <th>499</th>\n",
       "      <td>False</td>\n",
       "      <td>False</td>\n",
       "      <td>False</td>\n",
       "      <td>False</td>\n",
       "    </tr>\n",
       "  </tbody>\n",
       "</table>\n",
       "<p>500 rows × 4 columns</p>\n",
       "</div>"
      ],
      "text/plain": [
       "        x1     x2     x3     x4\n",
       "0    False  False  False  False\n",
       "1    False  False  False  False\n",
       "2    False  False  False  False\n",
       "3    False  False  False  False\n",
       "4    False  False  False  False\n",
       "..     ...    ...    ...    ...\n",
       "495  False  False  False  False\n",
       "496  False  False  False  False\n",
       "497  False  False  False  False\n",
       "498  False  False  False  False\n",
       "499  False  False  False  False\n",
       "\n",
       "[500 rows x 4 columns]"
      ]
     },
     "execution_count": 6,
     "metadata": {},
     "output_type": "execute_result"
    }
   ],
   "source": [
    "MC=data.isna()\n",
    "MC"
   ]
  },
  {
   "cell_type": "code",
   "execution_count": 7,
   "id": "0c47c684",
   "metadata": {},
   "outputs": [
    {
     "data": {
      "text/plain": [
       "x1    3.6\n",
       "x2    4.0\n",
       "x3    2.8\n",
       "x4    3.4\n",
       "dtype: float64"
      ]
     },
     "execution_count": 7,
     "metadata": {},
     "output_type": "execute_result"
    }
   ],
   "source": [
    "data.isnull().mean() * 100"
   ]
  },
  {
   "cell_type": "code",
   "execution_count": 8,
   "id": "7157b612",
   "metadata": {},
   "outputs": [],
   "source": [
    "sub= data.copy()"
   ]
  },
  {
   "cell_type": "markdown",
   "id": "656eba5a",
   "metadata": {},
   "source": [
    "## Si los valores son categoricos se sustituyen por moda\n",
    "\n",
    "x2 es categorico"
   ]
  },
  {
   "cell_type": "code",
   "execution_count": 9,
   "id": "e56c557f",
   "metadata": {},
   "outputs": [
    {
     "data": {
      "text/plain": [
       "'Mexicano'"
      ]
     },
     "execution_count": 9,
     "metadata": {},
     "output_type": "execute_result"
    }
   ],
   "source": [
    "modex2= data['x2'].mode().iat[0]\n",
    "modex2"
   ]
  },
  {
   "cell_type": "code",
   "execution_count": 10,
   "id": "8f789920",
   "metadata": {},
   "outputs": [],
   "source": [
    "for column in ['x2']:\n",
    "    sub['x2'].fillna(sub['x2'].mode()[0], inplace=True)"
   ]
  },
  {
   "cell_type": "markdown",
   "id": "1529d1ef",
   "metadata": {},
   "source": [
    "Para encontrar las demas primero se hara un analisis de curtosis para determinar las que sean uniformes."
   ]
  },
  {
   "cell_type": "code",
   "execution_count": 11,
   "id": "ad950b9a",
   "metadata": {},
   "outputs": [
    {
     "data": {
      "text/plain": [
       "x1    3.157644\n",
       "x3   -1.260308\n",
       "x4   -0.290781\n",
       "dtype: float64"
      ]
     },
     "execution_count": 11,
     "metadata": {},
     "output_type": "execute_result"
    }
   ],
   "source": [
    "kurt = sub.kurt(axis=0)\n",
    "kurt"
   ]
  },
  {
   "cell_type": "markdown",
   "id": "aa2c4124",
   "metadata": {},
   "source": [
    "la menor a -1.2 es x3 la cual sera substituida de manera aleatoria"
   ]
  },
  {
   "cell_type": "markdown",
   "id": "ca1562c3",
   "metadata": {},
   "source": [
    "seguido se hace un analisis de sesgo para determinar que metodo se utilizara para las otras 2"
   ]
  },
  {
   "cell_type": "code",
   "execution_count": 12,
   "id": "a17b1fda",
   "metadata": {},
   "outputs": [
    {
     "data": {
      "text/plain": [
       "x1    0.246582\n",
       "x3    0.095405\n",
       "x4    0.105376\n",
       "dtype: float64"
      ]
     },
     "execution_count": 12,
     "metadata": {},
     "output_type": "execute_result"
    }
   ],
   "source": [
    "skew= sub.skew(axis=0)\n",
    "skew"
   ]
  },
  {
   "cell_type": "markdown",
   "id": "fbfa25ce",
   "metadata": {},
   "source": [
    "x1  y x4 tienen cesgos positivos por lo que se utilizaran media aritmetica"
   ]
  },
  {
   "cell_type": "code",
   "execution_count": 13,
   "id": "94277921",
   "metadata": {},
   "outputs": [],
   "source": [
    "sub['x1'].fillna(sub['x1'].mean(), inplace=True)"
   ]
  },
  {
   "cell_type": "code",
   "execution_count": 14,
   "id": "ed87b22a",
   "metadata": {},
   "outputs": [],
   "source": [
    "sub['x4'].fillna(sub['x4'].mean(), inplace=True)"
   ]
  },
  {
   "cell_type": "code",
   "execution_count": 31,
   "id": "7f770933",
   "metadata": {},
   "outputs": [],
   "source": [
    "from sklearn.impute import SimpleImputer\n",
    "imp=SimpleImputer(strategy='mean')\n"
   ]
  },
  {
   "cell_type": "code",
   "execution_count": 16,
   "id": "c4d4eca7",
   "metadata": {},
   "outputs": [],
   "source": [
    "data2= sub.copy()\n",
    "drop= sub.copy()\n"
   ]
  },
  {
   "cell_type": "code",
   "execution_count": 32,
   "id": "ed4f42f3",
   "metadata": {},
   "outputs": [
    {
     "data": {
      "text/html": [
       "<div>\n",
       "<style scoped>\n",
       "    .dataframe tbody tr th:only-of-type {\n",
       "        vertical-align: middle;\n",
       "    }\n",
       "\n",
       "    .dataframe tbody tr th {\n",
       "        vertical-align: top;\n",
       "    }\n",
       "\n",
       "    .dataframe thead th {\n",
       "        text-align: right;\n",
       "    }\n",
       "</style>\n",
       "<table border=\"1\" class=\"dataframe\">\n",
       "  <thead>\n",
       "    <tr style=\"text-align: right;\">\n",
       "      <th></th>\n",
       "      <th>x1</th>\n",
       "      <th>x2</th>\n",
       "      <th>x3</th>\n",
       "      <th>x4</th>\n",
       "    </tr>\n",
       "  </thead>\n",
       "  <tbody>\n",
       "    <tr>\n",
       "      <th>0</th>\n",
       "      <td>1.307150</td>\n",
       "      <td>Comida rápida</td>\n",
       "      <td>5.249548</td>\n",
       "      <td>2.790293</td>\n",
       "    </tr>\n",
       "    <tr>\n",
       "      <th>1</th>\n",
       "      <td>18.422083</td>\n",
       "      <td>Mexicano</td>\n",
       "      <td>5.278007</td>\n",
       "      <td>3.330853</td>\n",
       "    </tr>\n",
       "    <tr>\n",
       "      <th>2</th>\n",
       "      <td>7.729605</td>\n",
       "      <td>Italiano</td>\n",
       "      <td>7.403145</td>\n",
       "      <td>2.895753</td>\n",
       "    </tr>\n",
       "    <tr>\n",
       "      <th>3</th>\n",
       "      <td>10.599776</td>\n",
       "      <td>Comida rápida</td>\n",
       "      <td>7.209577</td>\n",
       "      <td>3.393178</td>\n",
       "    </tr>\n",
       "    <tr>\n",
       "      <th>4</th>\n",
       "      <td>5.612505</td>\n",
       "      <td>Chino</td>\n",
       "      <td>5.896599</td>\n",
       "      <td>2.901199</td>\n",
       "    </tr>\n",
       "    <tr>\n",
       "      <th>...</th>\n",
       "      <td>...</td>\n",
       "      <td>...</td>\n",
       "      <td>...</td>\n",
       "      <td>...</td>\n",
       "    </tr>\n",
       "    <tr>\n",
       "      <th>495</th>\n",
       "      <td>7.851055</td>\n",
       "      <td>Tailandés</td>\n",
       "      <td>4.159333</td>\n",
       "      <td>3.100521</td>\n",
       "    </tr>\n",
       "    <tr>\n",
       "      <th>496</th>\n",
       "      <td>12.174165</td>\n",
       "      <td>Comida rápida</td>\n",
       "      <td>6.004050</td>\n",
       "      <td>2.917600</td>\n",
       "    </tr>\n",
       "    <tr>\n",
       "      <th>497</th>\n",
       "      <td>10.984803</td>\n",
       "      <td>Italiano</td>\n",
       "      <td>6.017403</td>\n",
       "      <td>2.979846</td>\n",
       "    </tr>\n",
       "    <tr>\n",
       "      <th>498</th>\n",
       "      <td>7.420852</td>\n",
       "      <td>Chino</td>\n",
       "      <td>7.327392</td>\n",
       "      <td>2.819767</td>\n",
       "    </tr>\n",
       "    <tr>\n",
       "      <th>499</th>\n",
       "      <td>6.738492</td>\n",
       "      <td>Chino</td>\n",
       "      <td>5.898113</td>\n",
       "      <td>3.056515</td>\n",
       "    </tr>\n",
       "  </tbody>\n",
       "</table>\n",
       "<p>500 rows × 4 columns</p>\n",
       "</div>"
      ],
      "text/plain": [
       "            x1             x2        x3        x4\n",
       "0     1.307150  Comida rápida  5.249548  2.790293\n",
       "1    18.422083       Mexicano  5.278007  3.330853\n",
       "2     7.729605       Italiano  7.403145  2.895753\n",
       "3    10.599776  Comida rápida  7.209577  3.393178\n",
       "4     5.612505          Chino  5.896599  2.901199\n",
       "..         ...            ...       ...       ...\n",
       "495   7.851055      Tailandés  4.159333  3.100521\n",
       "496  12.174165  Comida rápida  6.004050  2.917600\n",
       "497  10.984803       Italiano  6.017403  2.979846\n",
       "498   7.420852          Chino  7.327392  2.819767\n",
       "499   6.738492          Chino  5.898113  3.056515\n",
       "\n",
       "[500 rows x 4 columns]"
      ]
     },
     "execution_count": 32,
     "metadata": {},
     "output_type": "execute_result"
    }
   ],
   "source": [
    "imp.strategy='constant'\n",
    "dim=data2.dropna().shape[0]\n",
    "i=np.random.randint(dim)\n",
    "val=data2.dropna().iloc[i] \n",
    "data3=data2.copy()\n",
    "for c in drop.columns:\n",
    "    imp.fill_value=val[c]\n",
    "    data3[c]=imp.fit_transform(drop[[c]])\n",
    "data3"
   ]
  },
  {
   "cell_type": "code",
   "execution_count": 38,
   "id": "7c4de67c",
   "metadata": {},
   "outputs": [
    {
     "data": {
      "text/html": [
       "<div>\n",
       "<style scoped>\n",
       "    .dataframe tbody tr th:only-of-type {\n",
       "        vertical-align: middle;\n",
       "    }\n",
       "\n",
       "    .dataframe tbody tr th {\n",
       "        vertical-align: top;\n",
       "    }\n",
       "\n",
       "    .dataframe thead th {\n",
       "        text-align: right;\n",
       "    }\n",
       "</style>\n",
       "<table border=\"1\" class=\"dataframe\">\n",
       "  <thead>\n",
       "    <tr style=\"text-align: right;\">\n",
       "      <th></th>\n",
       "      <th>x1</th>\n",
       "      <th>x2</th>\n",
       "      <th>x3</th>\n",
       "      <th>x4</th>\n",
       "    </tr>\n",
       "  </thead>\n",
       "  <tbody>\n",
       "    <tr>\n",
       "      <th>0</th>\n",
       "      <td>1.307150</td>\n",
       "      <td>Comida rápida</td>\n",
       "      <td>5.249548</td>\n",
       "      <td>2.790293</td>\n",
       "    </tr>\n",
       "    <tr>\n",
       "      <th>1</th>\n",
       "      <td>18.422083</td>\n",
       "      <td>Mexicano</td>\n",
       "      <td>5.278007</td>\n",
       "      <td>3.330853</td>\n",
       "    </tr>\n",
       "    <tr>\n",
       "      <th>2</th>\n",
       "      <td>7.729605</td>\n",
       "      <td>Italiano</td>\n",
       "      <td>7.403145</td>\n",
       "      <td>2.895753</td>\n",
       "    </tr>\n",
       "    <tr>\n",
       "      <th>3</th>\n",
       "      <td>10.599776</td>\n",
       "      <td>Comida rápida</td>\n",
       "      <td>7.209577</td>\n",
       "      <td>3.393178</td>\n",
       "    </tr>\n",
       "    <tr>\n",
       "      <th>4</th>\n",
       "      <td>5.612505</td>\n",
       "      <td>Chino</td>\n",
       "      <td>5.896599</td>\n",
       "      <td>2.901199</td>\n",
       "    </tr>\n",
       "    <tr>\n",
       "      <th>...</th>\n",
       "      <td>...</td>\n",
       "      <td>...</td>\n",
       "      <td>...</td>\n",
       "      <td>...</td>\n",
       "    </tr>\n",
       "    <tr>\n",
       "      <th>495</th>\n",
       "      <td>7.851055</td>\n",
       "      <td>Tailandés</td>\n",
       "      <td>4.159333</td>\n",
       "      <td>3.100521</td>\n",
       "    </tr>\n",
       "    <tr>\n",
       "      <th>496</th>\n",
       "      <td>12.174165</td>\n",
       "      <td>Comida rápida</td>\n",
       "      <td>6.004050</td>\n",
       "      <td>2.917600</td>\n",
       "    </tr>\n",
       "    <tr>\n",
       "      <th>497</th>\n",
       "      <td>10.984803</td>\n",
       "      <td>Italiano</td>\n",
       "      <td>6.017403</td>\n",
       "      <td>2.979846</td>\n",
       "    </tr>\n",
       "    <tr>\n",
       "      <th>498</th>\n",
       "      <td>7.420852</td>\n",
       "      <td>Chino</td>\n",
       "      <td>7.327392</td>\n",
       "      <td>2.819767</td>\n",
       "    </tr>\n",
       "    <tr>\n",
       "      <th>499</th>\n",
       "      <td>6.738492</td>\n",
       "      <td>Chino</td>\n",
       "      <td>5.898113</td>\n",
       "      <td>3.056515</td>\n",
       "    </tr>\n",
       "  </tbody>\n",
       "</table>\n",
       "<p>500 rows × 4 columns</p>\n",
       "</div>"
      ],
      "text/plain": [
       "            x1             x2        x3        x4\n",
       "0     1.307150  Comida rápida  5.249548  2.790293\n",
       "1    18.422083       Mexicano  5.278007  3.330853\n",
       "2     7.729605       Italiano  7.403145  2.895753\n",
       "3    10.599776  Comida rápida  7.209577  3.393178\n",
       "4     5.612505          Chino  5.896599  2.901199\n",
       "..         ...            ...       ...       ...\n",
       "495   7.851055      Tailandés  4.159333  3.100521\n",
       "496  12.174165  Comida rápida  6.004050  2.917600\n",
       "497  10.984803       Italiano  6.017403  2.979846\n",
       "498   7.420852          Chino  7.327392  2.819767\n",
       "499   6.738492          Chino  5.898113  3.056515\n",
       "\n",
       "[500 rows x 4 columns]"
      ]
     },
     "execution_count": 38,
     "metadata": {},
     "output_type": "execute_result"
    }
   ],
   "source": [
    "data3"
   ]
  },
  {
   "cell_type": "code",
   "execution_count": 39,
   "id": "a5a75ac2",
   "metadata": {},
   "outputs": [
    {
     "data": {
      "text/plain": [
       "x1    0.0\n",
       "x2    0.0\n",
       "x3    0.0\n",
       "x4    0.0\n",
       "dtype: float64"
      ]
     },
     "execution_count": 39,
     "metadata": {},
     "output_type": "execute_result"
    }
   ],
   "source": [
    "data3.isnull().mean() * 100"
   ]
  },
  {
   "cell_type": "markdown",
   "id": "fb60253e",
   "metadata": {},
   "source": [
    "Al final los datos quedan sin valores Nan"
   ]
  },
  {
   "cell_type": "code",
   "execution_count": null,
   "id": "94e000f8",
   "metadata": {},
   "outputs": [],
   "source": []
  }
 ],
 "metadata": {
  "kernelspec": {
   "display_name": "Python 3",
   "language": "python",
   "name": "python3"
  },
  "language_info": {
   "codemirror_mode": {
    "name": "ipython",
    "version": 3
   },
   "file_extension": ".py",
   "mimetype": "text/x-python",
   "name": "python",
   "nbconvert_exporter": "python",
   "pygments_lexer": "ipython3",
   "version": "3.7.6"
  }
 },
 "nbformat": 4,
 "nbformat_minor": 5
}
