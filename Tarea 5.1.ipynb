{
 "cells": [
  {
   "cell_type": "markdown",
   "id": "8cc26ad0",
   "metadata": {},
   "source": [
    "Cargar los datos de load_boston de la librería de scikit-learn.\n",
    "Para las siguientes variables realizar la transformación que mejor aproxime a una gaussiana (considere las transformaciones del tipo $ x−−√n, logn(x), o xn $, buscando una n adecuada).  \n",
    "-CRIM  \n",
    "-ZN  \n",
    "-INDUS  \n",
    "-NOX  \n",
    "-RM  \n",
    "-AGE  \n",
    "-DIS  \n",
    "-PTRATIO  \n",
    "-B  \n",
    "-LSTAT  "
   ]
  },
  {
   "cell_type": "code",
   "execution_count": 179,
   "id": "eeab448c",
   "metadata": {},
   "outputs": [],
   "source": [
    "from sklearn.datasets  import load_boston\n",
    "import pandas as pd\n",
    "import numpy as np"
   ]
  },
  {
   "cell_type": "code",
   "execution_count": 198,
   "id": "12139070",
   "metadata": {},
   "outputs": [
    {
     "data": {
      "text/html": [
       "<div>\n",
       "<style scoped>\n",
       "    .dataframe tbody tr th:only-of-type {\n",
       "        vertical-align: middle;\n",
       "    }\n",
       "\n",
       "    .dataframe tbody tr th {\n",
       "        vertical-align: top;\n",
       "    }\n",
       "\n",
       "    .dataframe thead th {\n",
       "        text-align: right;\n",
       "    }\n",
       "</style>\n",
       "<table border=\"1\" class=\"dataframe\">\n",
       "  <thead>\n",
       "    <tr style=\"text-align: right;\">\n",
       "      <th></th>\n",
       "      <th>CRIM</th>\n",
       "      <th>ZN</th>\n",
       "      <th>INDUS</th>\n",
       "      <th>CHAS</th>\n",
       "      <th>NOX</th>\n",
       "      <th>RM</th>\n",
       "      <th>AGE</th>\n",
       "      <th>DIS</th>\n",
       "      <th>RAD</th>\n",
       "      <th>TAX</th>\n",
       "      <th>PTRATIO</th>\n",
       "      <th>B</th>\n",
       "      <th>LSTAT</th>\n",
       "    </tr>\n",
       "  </thead>\n",
       "  <tbody>\n",
       "    <tr>\n",
       "      <th>0</th>\n",
       "      <td>0.00632</td>\n",
       "      <td>18.0</td>\n",
       "      <td>2.31</td>\n",
       "      <td>0.0</td>\n",
       "      <td>0.538</td>\n",
       "      <td>6.575</td>\n",
       "      <td>65.2</td>\n",
       "      <td>4.0900</td>\n",
       "      <td>1.0</td>\n",
       "      <td>296.0</td>\n",
       "      <td>15.3</td>\n",
       "      <td>396.90</td>\n",
       "      <td>4.98</td>\n",
       "    </tr>\n",
       "    <tr>\n",
       "      <th>1</th>\n",
       "      <td>0.02731</td>\n",
       "      <td>0.0</td>\n",
       "      <td>7.07</td>\n",
       "      <td>0.0</td>\n",
       "      <td>0.469</td>\n",
       "      <td>6.421</td>\n",
       "      <td>78.9</td>\n",
       "      <td>4.9671</td>\n",
       "      <td>2.0</td>\n",
       "      <td>242.0</td>\n",
       "      <td>17.8</td>\n",
       "      <td>396.90</td>\n",
       "      <td>9.14</td>\n",
       "    </tr>\n",
       "    <tr>\n",
       "      <th>2</th>\n",
       "      <td>0.02729</td>\n",
       "      <td>0.0</td>\n",
       "      <td>7.07</td>\n",
       "      <td>0.0</td>\n",
       "      <td>0.469</td>\n",
       "      <td>7.185</td>\n",
       "      <td>61.1</td>\n",
       "      <td>4.9671</td>\n",
       "      <td>2.0</td>\n",
       "      <td>242.0</td>\n",
       "      <td>17.8</td>\n",
       "      <td>392.83</td>\n",
       "      <td>4.03</td>\n",
       "    </tr>\n",
       "    <tr>\n",
       "      <th>3</th>\n",
       "      <td>0.03237</td>\n",
       "      <td>0.0</td>\n",
       "      <td>2.18</td>\n",
       "      <td>0.0</td>\n",
       "      <td>0.458</td>\n",
       "      <td>6.998</td>\n",
       "      <td>45.8</td>\n",
       "      <td>6.0622</td>\n",
       "      <td>3.0</td>\n",
       "      <td>222.0</td>\n",
       "      <td>18.7</td>\n",
       "      <td>394.63</td>\n",
       "      <td>2.94</td>\n",
       "    </tr>\n",
       "    <tr>\n",
       "      <th>4</th>\n",
       "      <td>0.06905</td>\n",
       "      <td>0.0</td>\n",
       "      <td>2.18</td>\n",
       "      <td>0.0</td>\n",
       "      <td>0.458</td>\n",
       "      <td>7.147</td>\n",
       "      <td>54.2</td>\n",
       "      <td>6.0622</td>\n",
       "      <td>3.0</td>\n",
       "      <td>222.0</td>\n",
       "      <td>18.7</td>\n",
       "      <td>396.90</td>\n",
       "      <td>5.33</td>\n",
       "    </tr>\n",
       "  </tbody>\n",
       "</table>\n",
       "</div>"
      ],
      "text/plain": [
       "      CRIM    ZN  INDUS  CHAS    NOX     RM   AGE     DIS  RAD    TAX  \\\n",
       "0  0.00632  18.0   2.31   0.0  0.538  6.575  65.2  4.0900  1.0  296.0   \n",
       "1  0.02731   0.0   7.07   0.0  0.469  6.421  78.9  4.9671  2.0  242.0   \n",
       "2  0.02729   0.0   7.07   0.0  0.469  7.185  61.1  4.9671  2.0  242.0   \n",
       "3  0.03237   0.0   2.18   0.0  0.458  6.998  45.8  6.0622  3.0  222.0   \n",
       "4  0.06905   0.0   2.18   0.0  0.458  7.147  54.2  6.0622  3.0  222.0   \n",
       "\n",
       "   PTRATIO       B  LSTAT  \n",
       "0     15.3  396.90   4.98  \n",
       "1     17.8  396.90   9.14  \n",
       "2     17.8  392.83   4.03  \n",
       "3     18.7  394.63   2.94  \n",
       "4     18.7  396.90   5.33  "
      ]
     },
     "execution_count": 198,
     "metadata": {},
     "output_type": "execute_result"
    }
   ],
   "source": [
    "data= load_boston()\n",
    "df= pd.DataFrame(data.data,columns=data.feature_names)\n",
    "df.head()"
   ]
  },
  {
   "cell_type": "code",
   "execution_count": 199,
   "id": "1f01165e",
   "metadata": {},
   "outputs": [
    {
     "data": {
      "text/plain": [
       "CRIM       5.223149\n",
       "ZN         2.225666\n",
       "INDUS      0.295022\n",
       "NOX        0.729308\n",
       "RM         0.403612\n",
       "AGE       -0.598963\n",
       "DIS        1.011781\n",
       "PTRATIO   -0.802325\n",
       "B         -2.890374\n",
       "LSTAT      0.906460\n",
       "dtype: float64"
      ]
     },
     "execution_count": 199,
     "metadata": {},
     "output_type": "execute_result"
    }
   ],
   "source": [
    "df=df.drop(['CHAS','RAD','TAX'], axis=1)\n",
    "df.skew()"
   ]
  },
  {
   "cell_type": "code",
   "execution_count": 200,
   "id": "8fcd6e19",
   "metadata": {},
   "outputs": [
    {
     "data": {
      "image/png": "[encoded data removed]",
      "text/plain": [
       "<Figure size 720x720 with 12 Axes>"
      ]
     },
     "metadata": {
      "needs_background": "light"
     },
     "output_type": "display_data"
    }
   ],
   "source": [
    "H=df.hist(figsize=(10,10),bins=50)"
   ]
  },
  {
   "cell_type": "code",
   "execution_count": 201,
   "id": "58b5f728",
   "metadata": {},
   "outputs": [
    {
     "data": {
      "text/plain": [
       "14.199902068166104"
      ]
     },
     "execution_count": 201,
     "metadata": {},
     "output_type": "execute_result"
    }
   ],
   "source": [
    "f=[lambda x:x**3,lambda x:x**4,lambda x:x**5,lambda x:x**(1/2),lambda x:x**(1/3),lambda x:np.log(x)]\n",
    "# def f(x,n):\n",
    "#    return x**n\n",
    "y=f[0](df['CRIM'])\n",
    "y.skew()"
   ]
  },
  {
   "cell_type": "code",
   "execution_count": 202,
   "id": "422c42e5",
   "metadata": {},
   "outputs": [
    {
     "name": "stderr",
     "output_type": "stream",
     "text": [
      "C:\\Users\\Emilio\\anaconda3\\lib\\site-packages\\pandas\\core\\arraylike.py:358: RuntimeWarning: divide by zero encountered in log\n",
      "  result = getattr(ufunc, method)(*inputs, **kwargs)\n"
     ]
    },
    {
     "data": {
      "text/plain": [
       "[(5, 0.4059344988496048, 'CRIM'),\n",
       " (4, 1.262562718232027, 'ZN'),\n",
       " (3, -0.0726093860362781, 'INDUS'),\n",
       " (5, 0.3577796083043403, 'NOX'),\n",
       " (4, -0.04519857161910971, 'RM'),\n",
       " (0, 0.07091684320803471, 'AGE'),\n",
       " (5, 0.15273013181129969, 'DIS'),\n",
       " (2, -0.12769859904778316, 'PTRATIO'),\n",
       " (2, -1.6776551693481085, 'B'),\n",
       " (4, 0.10348487616653473, 'LSTAT')]"
      ]
     },
     "execution_count": 202,
     "metadata": {},
     "output_type": "execute_result"
    }
   ],
   "source": [
    "mejor=[]\n",
    "for col in dt.columns:\n",
    "  sesgo=[]\n",
    "  for fun in f:\n",
    "    #sesgo.append(fun(df[col]-min(df[col])+1).skew())\n",
    "    sesgo.append(fun(df[col]).skew())\n",
    "  indice=np.where(min(np.abs(sesgo))==np.abs(sesgo))[0][0]\n",
    "  mejor.append((indice,sesgo[indice],col))\n",
    "mejor"
   ]
  },
  {
   "cell_type": "code",
   "execution_count": 203,
   "id": "6e5e7c39",
   "metadata": {},
   "outputs": [
    {
     "data": {
      "text/plain": [
       "(       CRIM        ZN     INDUS       NOX        RM      AGE       DIS  \\\n",
       " 0 -5.064036  2.620741  1.519868 -0.619897  1.873406  4251.04  1.408545   \n",
       " 1 -3.600502  0.000000  2.658947 -0.757153  1.858664  6225.21  1.602836   \n",
       " 2 -3.601235  0.000000  2.658947 -0.757153  1.929637  3733.21  1.602836   \n",
       " 3 -3.430523  0.000000  1.476482 -0.780886  1.912749  2097.64  1.802073   \n",
       " 4 -2.672924  0.000000  1.476482 -0.780886  1.926229  2937.64  1.802073   \n",
       " \n",
       "         PTRATIO             B     LSTAT  \n",
       " 0  8.384114e+05  9.849303e+12  1.707693  \n",
       " 1  1.786899e+06  9.849303e+12  2.090814  \n",
       " 2  1.786899e+06  9.354557e+12  1.591360  \n",
       " 3  2.286694e+06  9.570850e+12  1.432570  \n",
       " 4  2.286694e+06  9.849303e+12  1.746797  ,\n",
       " CRIM       0.405934\n",
       " ZN         1.262563\n",
       " INDUS     -0.072609\n",
       " NOX        0.357780\n",
       " RM        -0.045199\n",
       " AGE       -0.183180\n",
       " DIS        0.152730\n",
       " PTRATIO   -0.127699\n",
       " B         -1.677655\n",
       " LSTAT      0.103485\n",
       " dtype: float64)"
      ]
     },
     "execution_count": 203,
     "metadata": {},
     "output_type": "execute_result"
    }
   ],
   "source": [
    "dt=df.copy()\n",
    "dt['CRIM']=np.log(df.CRIM)\n",
    "dt['ZN']=df.ZN**(1/3)\n",
    "dt['INDUS']=df.INDUS**(1/2)\n",
    "dt['NOX']=np.log(df.NOX)\n",
    "dt['RM']=df.RM**(1/3)\n",
    "dt['AGE']=df.AGE**2\n",
    "dt['DIS']=np.log(df.DIS)\n",
    "dt['PTRATIO']=df.PTRATIO**5\n",
    "dt['B']=df.B**5\n",
    "dt['LSTAT']=df.LSTAT**(1/3)\n",
    "dt.head(),dt.skew()"
   ]
  },
  {
   "cell_type": "code",
   "execution_count": 205,
   "id": "4440d719",
   "metadata": {},
   "outputs": [
    {
     "data": {
      "image/png": "[encoded data removed]",
      "text/plain": [
       "<Figure size 720x720 with 12 Axes>"
      ]
     },
     "metadata": {
      "needs_background": "light"
     },
     "output_type": "display_data"
    }
   ],
   "source": [
    "ht=dt.hist(figsize=(10,10),bins=50)"
   ]
  },
  {
   "cell_type": "code",
   "execution_count": null,
   "id": "d05dc6ac",
   "metadata": {},
   "outputs": [],
   "source": []
  }
 ],
 "metadata": {
  "kernelspec": {
   "display_name": "Python 3",
   "language": "python",
   "name": "python3"
  },
  "language_info": {
   "codemirror_mode": {
    "name": "ipython",
    "version": 3
   },
   "file_extension": ".py",
   "mimetype": "text/x-python",
   "name": "python",
   "nbconvert_exporter": "python",
   "pygments_lexer": "ipython3",
   "version": "3.7.6"
  }
 },
 "nbformat": 4,
 "nbformat_minor": 5
}
